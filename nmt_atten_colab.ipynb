{
 "cells": [
  {
   "cell_type": "markdown",
   "metadata": {},
   "source": [
    "Paste your data directory and copy it relative path to the FILE_PATH variable"
   ]
  },
  {
   "cell_type": "code",
   "execution_count": null,
   "metadata": {
    "colab": {},
    "colab_type": "code",
    "id": "gVDZ22N4F4_-"
   },
   "outputs": [],
   "source": [
    "from utils.attention import AttentionLayer"
   ]
  },
  {
   "cell_type": "code",
   "execution_count": null,
   "metadata": {
    "colab": {},
    "colab_type": "code",
    "id": "AESHaivdF9UN"
   },
   "outputs": [],
   "source": [
    "import pandas as pd\n",
    "from sklearn.model_selection import train_test_split\n",
    "import string\n",
    "from string import digits\n",
    "import re\n",
    "from sklearn.utils import shuffle\n",
    "from tensorflow.keras.preprocessing.sequence import pad_sequences\n",
    "from tensorflow.keras.layers import LSTM, Input, Dense,Embedding, Concatenate, TimeDistributed\n",
    "from tensorflow.keras.models import Model,load_model, model_from_json\n",
    "from tensorflow.keras.utils import plot_model\n",
    "from tensorflow.keras.preprocessing.text import one_hot, Tokenizer\n",
    "from tensorflow.keras.callbacks import EarlyStopping\n",
    "import pickle as pkl\n",
    "import numpy as np"
   ]
  },
  {
   "cell_type": "code",
   "execution_count": null,
   "metadata": {
    "colab": {},
    "colab_type": "code",
    "id": "4FpGKiHXitN2"
   },
   "outputs": [],
   "source": [
    "# Constant variables\n",
    "\n",
    "NUMBER_OF_DATASET = 5000\n",
    "EPOCHS = 50\n",
    "FILE_PATH = '/content/drive/My Drive/Dataset/Machine Translation/Final Year/data/eng-twi.txt'"
   ]
  },
  {
   "cell_type": "code",
   "execution_count": null,
   "metadata": {
    "colab": {},
    "colab_type": "code",
    "id": "Dl3oqwQe64C6"
   },
   "outputs": [],
   "source": [
    "lines= pd.read_table(FILE_PATH, names=['source', 'target'])"
   ]
  },
  {
   "cell_type": "code",
   "execution_count": null,
   "metadata": {
    "colab": {
     "base_uri": "https://localhost:8080/",
     "height": 121
    },
    "colab_type": "code",
    "id": "azORyGptGSDo",
    "outputId": "8f78a823-9b60-446f-caa1-b93ca03ccfb6"
   },
   "outputs": [
    {
     "name": "stdout",
     "output_type": "stream",
     "text": [
      "0        Persecution at School\n",
      "1         Underground Activity\n",
      "2    I was put in the middle .\n",
      "3         Never be obstinate .\n",
      "4       I began to cry again .\n",
      "Name: target, dtype: object\n"
     ]
    }
   ],
   "source": [
    "print(lines.target[:5])\n"
   ]
  },
  {
   "cell_type": "code",
   "execution_count": null,
   "metadata": {
    "colab": {
     "base_uri": "https://localhost:8080/",
     "height": 34
    },
    "colab_type": "code",
    "id": "e3u5tLR7GYu-",
    "outputId": "a2b81903-3d15-4993-c548-2c3252749292"
   },
   "outputs": [
    {
     "data": {
      "text/plain": [
       "(65585, 65585)"
      ]
     },
     "execution_count": 196,
     "metadata": {
      "tags": []
     },
     "output_type": "execute_result"
    }
   ],
   "source": [
    "len(lines.source), len(lines.target)\n"
   ]
  },
  {
   "cell_type": "code",
   "execution_count": null,
   "metadata": {
    "colab": {},
    "colab_type": "code",
    "id": "hup-VkBqGa4z"
   },
   "outputs": [],
   "source": [
    "language_data = pd.DataFrame(columns=['Source','Target'])\n",
    "language_data['Source'] = lines.source[:NUMBER_OF_DATASET]\n",
    "language_data['Target'] = lines.target[:NUMBER_OF_DATASET]"
   ]
  },
  {
   "cell_type": "code",
   "execution_count": null,
   "metadata": {
    "colab": {},
    "colab_type": "code",
    "id": "BrTVdhzZGdSM"
   },
   "outputs": [],
   "source": [
    "language_data.to_csv('/content/drive/My Drive/Dataset/Machine Translation/Final Year/processed_data/language_data.csv', index=False)\n"
   ]
  },
  {
   "cell_type": "code",
   "execution_count": null,
   "metadata": {
    "colab": {},
    "colab_type": "code",
    "id": "sutza6VYGfKc"
   },
   "outputs": [],
   "source": [
    "language_data = pd.read_csv('/content/drive/My Drive/Dataset/Machine Translation/Final Year/processed_data/language_data.csv')\n"
   ]
  },
  {
   "cell_type": "code",
   "execution_count": null,
   "metadata": {
    "colab": {
     "base_uri": "https://localhost:8080/",
     "height": 206
    },
    "colab_type": "code",
    "id": "HSrVH0y3GguJ",
    "outputId": "6cd0ae8f-f54a-4ca8-bb88-89b69ef75e4c"
   },
   "outputs": [
    {
     "data": {
      "text/html": [
       "<div>\n",
       "<style scoped>\n",
       "    .dataframe tbody tr th:only-of-type {\n",
       "        vertical-align: middle;\n",
       "    }\n",
       "\n",
       "    .dataframe tbody tr th {\n",
       "        vertical-align: top;\n",
       "    }\n",
       "\n",
       "    .dataframe thead th {\n",
       "        text-align: right;\n",
       "    }\n",
       "</style>\n",
       "<table border=\"1\" class=\"dataframe\">\n",
       "  <thead>\n",
       "    <tr style=\"text-align: right;\">\n",
       "      <th></th>\n",
       "      <th>Source</th>\n",
       "      <th>Target</th>\n",
       "    </tr>\n",
       "  </thead>\n",
       "  <tbody>\n",
       "    <tr>\n",
       "      <th>0</th>\n",
       "      <td>Sukuu Ɔtae</td>\n",
       "      <td>Persecution at School</td>\n",
       "    </tr>\n",
       "    <tr>\n",
       "      <th>1</th>\n",
       "      <td>Esum Ase Adwumayɛ</td>\n",
       "      <td>Underground Activity</td>\n",
       "    </tr>\n",
       "    <tr>\n",
       "      <th>2</th>\n",
       "      <td>Wɔde me kogyinaa mfinimfini .</td>\n",
       "      <td>I was put in the middle .</td>\n",
       "    </tr>\n",
       "    <tr>\n",
       "      <th>3</th>\n",
       "      <td>Nsene wo kɔn da .</td>\n",
       "      <td>Never be obstinate .</td>\n",
       "    </tr>\n",
       "    <tr>\n",
       "      <th>4</th>\n",
       "      <td>Mifii ase sui bio .</td>\n",
       "      <td>I began to cry again .</td>\n",
       "    </tr>\n",
       "  </tbody>\n",
       "</table>\n",
       "</div>"
      ],
      "text/plain": [
       "                          Source                     Target\n",
       "0                     Sukuu Ɔtae      Persecution at School\n",
       "1              Esum Ase Adwumayɛ       Underground Activity\n",
       "2  Wɔde me kogyinaa mfinimfini .  I was put in the middle .\n",
       "3              Nsene wo kɔn da .       Never be obstinate .\n",
       "4            Mifii ase sui bio .     I began to cry again ."
      ]
     },
     "execution_count": 200,
     "metadata": {
      "tags": []
     },
     "output_type": "execute_result"
    }
   ],
   "source": [
    "language_data.head()\n"
   ]
  },
  {
   "cell_type": "code",
   "execution_count": null,
   "metadata": {
    "colab": {},
    "colab_type": "code",
    "id": "NxCNeNexGiQZ"
   },
   "outputs": [],
   "source": [
    "source_text = language_data['Source'].values\n",
    "target_text = language_data['Target'].values"
   ]
  },
  {
   "cell_type": "code",
   "execution_count": null,
   "metadata": {
    "colab": {
     "base_uri": "https://localhost:8080/",
     "height": 34
    },
    "colab_type": "code",
    "id": "99etuBeOGlNq",
    "outputId": "14efd915-de82-4e39-c0bc-2be512defb71"
   },
   "outputs": [
    {
     "data": {
      "text/plain": [
       "('Sukuu Ɔtae', 'Persecution at School')"
      ]
     },
     "execution_count": 202,
     "metadata": {
      "tags": []
     },
     "output_type": "execute_result"
    }
   ],
   "source": [
    "source_text[0], target_text[0]\n"
   ]
  },
  {
   "cell_type": "code",
   "execution_count": null,
   "metadata": {
    "colab": {
     "base_uri": "https://localhost:8080/",
     "height": 34
    },
    "colab_type": "code",
    "id": "d3olaKJNGnTy",
    "outputId": "e97e5028-d004-443f-a190-6b25fc8af59b"
   },
   "outputs": [
    {
     "data": {
      "text/plain": [
       "(5000, 5000)"
      ]
     },
     "execution_count": 203,
     "metadata": {
      "tags": []
     },
     "output_type": "execute_result"
    }
   ],
   "source": [
    "len(source_text), len(target_text)\n"
   ]
  },
  {
   "cell_type": "code",
   "execution_count": null,
   "metadata": {
    "colab": {},
    "colab_type": "code",
    "id": "pr5CfqTsGsiF"
   },
   "outputs": [],
   "source": [
    "source_text_ = [re.sub(\"'\",'',str(x)) for x in source_text]\n",
    "target_text_ = [re.sub(\"'\",'',str(x)) for x in target_text]"
   ]
  },
  {
   "cell_type": "code",
   "execution_count": null,
   "metadata": {
    "colab": {},
    "colab_type": "code",
    "id": "A6tuvUFiGxP5"
   },
   "outputs": [],
   "source": [
    "def remove_punc(text_list):\n",
    "  table = str.maketrans('', '', string.punctuation)\n",
    "  removed_punc_text = []\n",
    "  for sent in text_list:\n",
    "    sentance = [w.translate(table) for w in sent.split(' ')]\n",
    "    removed_punc_text.append(' '.join(sentance))\n",
    "  return removed_punc_text\n",
    "\n",
    "source_text_ = remove_punc(source_text_)\n",
    "target_text_ = remove_punc(target_text_)"
   ]
  },
  {
   "cell_type": "code",
   "execution_count": null,
   "metadata": {
    "colab": {},
    "colab_type": "code",
    "id": "tOlLIwBdGzo0"
   },
   "outputs": [],
   "source": [
    "\n",
    "# removing the stating and ending whitespaces\n",
    "source_text_ = [x.strip() for x in source_text_]\n",
    "target_text_ = [x.strip() for x in target_text_]"
   ]
  },
  {
   "cell_type": "code",
   "execution_count": null,
   "metadata": {
    "colab": {},
    "colab_type": "code",
    "id": "EwnF9056G1Wn"
   },
   "outputs": [],
   "source": [
    "# removing the starting and ending whitespaces\n",
    "source_text_ = [x.strip() for x in source_text_]\n",
    "target_text_ = [x.strip() for x in target_text_]"
   ]
  },
  {
   "cell_type": "code",
   "execution_count": null,
   "metadata": {
    "colab": {},
    "colab_type": "code",
    "id": "7LGnmEACG4fM"
   },
   "outputs": [],
   "source": [
    "# Putting the start and end words in the sentances\n",
    "target_text_ = [\"start \" + x + \" end\" for x in target_text_]"
   ]
  },
  {
   "cell_type": "code",
   "execution_count": null,
   "metadata": {
    "colab": {
     "base_uri": "https://localhost:8080/",
     "height": 34
    },
    "colab_type": "code",
    "id": "37N5R59xG6Rb",
    "outputId": "f19fb236-6c10-4dd8-a70f-53f9e28d42b9"
   },
   "outputs": [
    {
     "data": {
      "text/plain": [
       "('start Persecution at School end', 'Sukuu Ɔtae')"
      ]
     },
     "execution_count": 209,
     "metadata": {
      "tags": []
     },
     "output_type": "execute_result"
    }
   ],
   "source": [
    "\n",
    "target_text_[0], source_text_[0]"
   ]
  },
  {
   "cell_type": "code",
   "execution_count": null,
   "metadata": {
    "colab": {
     "base_uri": "https://localhost:8080/",
     "height": 34
    },
    "colab_type": "code",
    "id": "yIMWLghNG7qc",
    "outputId": "d7591d11-dab6-4452-d474-0559b4bc5a22"
   },
   "outputs": [
    {
     "data": {
      "text/plain": [
       "('start Persecution at School end', 'Sukuu Ɔtae')"
      ]
     },
     "execution_count": 210,
     "metadata": {
      "tags": []
     },
     "output_type": "execute_result"
    }
   ],
   "source": [
    "\n",
    "target_text_[0], source_text_[0]"
   ]
  },
  {
   "cell_type": "code",
   "execution_count": null,
   "metadata": {
    "colab": {},
    "colab_type": "code",
    "id": "e7tbAv_wG9Xj"
   },
   "outputs": [],
   "source": [
    "\n",
    "X = source_text_\n",
    "Y = target_text_"
   ]
  },
  {
   "cell_type": "code",
   "execution_count": null,
   "metadata": {
    "colab": {
     "base_uri": "https://localhost:8080/",
     "height": 34
    },
    "colab_type": "code",
    "id": "K_cSlHB_G_Fi",
    "outputId": "bfa57c85-6e86-4b6c-d7b1-ff44baf93fab"
   },
   "outputs": [
    {
     "data": {
      "text/plain": [
       "(4500, 4500, 500, 500)"
      ]
     },
     "execution_count": 212,
     "metadata": {
      "tags": []
     },
     "output_type": "execute_result"
    }
   ],
   "source": [
    "X_train, X_test, y_train, y_test = train_test_split(X,Y,test_size = 0.1)\n",
    "len(X_train),len(y_train), len(X_test), len(y_test)"
   ]
  },
  {
   "cell_type": "code",
   "execution_count": null,
   "metadata": {
    "colab": {
     "base_uri": "https://localhost:8080/",
     "height": 34
    },
    "colab_type": "code",
    "id": "ZIxnnLAUHGi6",
    "outputId": "cb90b144-cb43-46cc-f4db-75b88229b460"
   },
   "outputs": [
    {
     "data": {
      "text/plain": [
       "('Karkwan So Abufuw a Wobɛkwati', 'start Avoiding Road Rage end')"
      ]
     },
     "execution_count": 213,
     "metadata": {
      "tags": []
     },
     "output_type": "execute_result"
    }
   ],
   "source": [
    "\n",
    "X_train[0], y_train[0]"
   ]
  },
  {
   "cell_type": "code",
   "execution_count": null,
   "metadata": {
    "colab": {},
    "colab_type": "code",
    "id": "6KHSf9EVHJj-"
   },
   "outputs": [],
   "source": [
    "\n",
    "def Max_length(data):\n",
    "  max_length_ = max([len(x.split(' ')) for x in data])\n",
    "  return max_length_\n",
    "\n",
    "#Training data\n",
    "max_length_source = Max_length(X_train)\n",
    "max_length_target = Max_length(y_train)\n",
    "\n",
    "#Test data\n",
    "max_length_source_test = Max_length(X_test)\n",
    "max_length_target_test = Max_length(y_test)"
   ]
  },
  {
   "cell_type": "code",
   "execution_count": null,
   "metadata": {
    "colab": {
     "base_uri": "https://localhost:8080/",
     "height": 34
    },
    "colab_type": "code",
    "id": "Zi2m41meHNBh",
    "outputId": "8678be1a-d95a-4434-b503-492531338053"
   },
   "outputs": [
    {
     "data": {
      "text/plain": [
       "(10, 19)"
      ]
     },
     "execution_count": 215,
     "metadata": {
      "tags": []
     },
     "output_type": "execute_result"
    }
   ],
   "source": [
    "max_length_target, max_length_source\n"
   ]
  },
  {
   "cell_type": "code",
   "execution_count": null,
   "metadata": {
    "colab": {},
    "colab_type": "code",
    "id": "-jWoD4HnHOyG"
   },
   "outputs": [],
   "source": [
    "sourceTokenizer = Tokenizer()\n",
    "sourceTokenizer.fit_on_texts(X_train)\n",
    "Sword2index = sourceTokenizer.word_index\n",
    "vocab_size_source = len(Sword2index) + 1\n",
    "\n",
    "X_train = sourceTokenizer.texts_to_sequences(X_train)\n",
    "X_train = pad_sequences(X_train, maxlen=max_length_source, padding='post')\n",
    "\n",
    "X_test = sourceTokenizer.texts_to_sequences(X_test)\n",
    "X_test = pad_sequences(X_test, maxlen = max_length_source, padding='post')\n"
   ]
  },
  {
   "cell_type": "code",
   "execution_count": null,
   "metadata": {
    "colab": {},
    "colab_type": "code",
    "id": "e_XScLyNICD9"
   },
   "outputs": [],
   "source": [
    "targetTokenizer = Tokenizer()\n",
    "targetTokenizer.fit_on_texts(y_train)\n",
    "Tword2index = targetTokenizer.word_index\n",
    "vocab_size_target = len(Tword2index) + 1\n",
    "\n",
    "y_train = targetTokenizer.texts_to_sequences(y_train)\n",
    "y_train = pad_sequences(y_train, maxlen=max_length_target, padding='post')\n",
    "\n",
    "y_test = targetTokenizer.texts_to_sequences(y_test)\n",
    "y_test = pad_sequences(y_test, maxlen = max_length_target, padding='post')\n"
   ]
  },
  {
   "cell_type": "code",
   "execution_count": null,
   "metadata": {
    "colab": {
     "base_uri": "https://localhost:8080/",
     "height": 34
    },
    "colab_type": "code",
    "id": "6Su1LTElIQut",
    "outputId": "8445c78e-b23b-4d76-91e6-b3357254a709"
   },
   "outputs": [
    {
     "data": {
      "text/plain": [
       "(2790, 3085)"
      ]
     },
     "execution_count": 218,
     "metadata": {
      "tags": []
     },
     "output_type": "execute_result"
    }
   ],
   "source": [
    "vocab_size_source, vocab_size_target"
   ]
  },
  {
   "cell_type": "code",
   "execution_count": null,
   "metadata": {
    "colab": {},
    "colab_type": "code",
    "id": "5RtXpddyIUpw"
   },
   "outputs": [],
   "source": [
    "with open('/content/drive/My Drive/Dataset/Machine Translation/Final Year/processed_data/NMT_data.pkl','wb') as f:\n",
    "  pkl.dump([X_train, y_train, X_test, y_test],f)\n"
   ]
  },
  {
   "cell_type": "code",
   "execution_count": null,
   "metadata": {
    "colab": {},
    "colab_type": "code",
    "id": "TtwW_BJgIpDr"
   },
   "outputs": [],
   "source": [
    "with open('/content/drive/My Drive/Dataset/Machine Translation/Final Year/processed_data/NMT_Stokenizer.pkl','wb') as f:\n",
    "  pkl.dump([vocab_size_source, Sword2index, sourceTokenizer], f)\n",
    "\n",
    "with open('/content/drive/My Drive/Dataset/Machine Translation/Final Year/processed_data/NMT_Ttokenizer.pkl', 'wb') as f:\n",
    "  pkl.dump([vocab_size_target, Tword2index, targetTokenizer], f)"
   ]
  },
  {
   "cell_type": "code",
   "execution_count": null,
   "metadata": {
    "colab": {
     "base_uri": "https://localhost:8080/",
     "height": 86
    },
    "colab_type": "code",
    "id": "JvPpqk57KKtT",
    "outputId": "286a8d0d-2f63-4049-d571-df8af49e2491"
   },
   "outputs": [
    {
     "data": {
      "text/plain": [
       "(array([1147,   11,  236,    1,  742,    0,    0,    0,    0,    0,    0,\n",
       "           0,    0,    0,    0,    0,    0,    0,    0], dtype=int32),\n",
       " array([   2, 1075,  349,  350,    1,    0,    0,    0,    0,    0],\n",
       "       dtype=int32))"
      ]
     },
     "execution_count": 221,
     "metadata": {
      "tags": []
     },
     "output_type": "execute_result"
    }
   ],
   "source": [
    "X_train[0], y_train[0]"
   ]
  },
  {
   "cell_type": "code",
   "execution_count": null,
   "metadata": {
    "colab": {},
    "colab_type": "code",
    "id": "jkZBXBgrKU2X"
   },
   "outputs": [],
   "source": [
    "X_train = np.array(X_train)\n",
    "y_train = np.array(y_train)\n",
    "X_test = np.array(X_test)\n",
    "y_test = np.array(y_test)"
   ]
  },
  {
   "cell_type": "code",
   "execution_count": null,
   "metadata": {
    "colab": {
     "base_uri": "https://localhost:8080/",
     "height": 86
    },
    "colab_type": "code",
    "id": "eJ4-JqNcKnE-",
    "outputId": "0898a16f-5340-4c1d-874c-8da0005a104f"
   },
   "outputs": [
    {
     "data": {
      "text/plain": [
       "(array([1147,   11,  236,    1,  742,    0,    0,    0,    0,    0,    0,\n",
       "           0,    0,    0,    0,    0,    0,    0,    0], dtype=int32),\n",
       " array([   2, 1075,  349,  350,    1,    0,    0,    0,    0,    0],\n",
       "       dtype=int32))"
      ]
     },
     "execution_count": 223,
     "metadata": {
      "tags": []
     },
     "output_type": "execute_result"
    }
   ],
   "source": [
    "X_train[0], y_train[0]"
   ]
  },
  {
   "cell_type": "code",
   "execution_count": null,
   "metadata": {
    "colab": {
     "base_uri": "https://localhost:8080/",
     "height": 607
    },
    "colab_type": "code",
    "id": "LABJfJNZMmxt",
    "outputId": "3fa8286a-e966-42a3-ba81-4f3c3ae8b3e2"
   },
   "outputs": [
    {
     "name": "stdout",
     "output_type": "stream",
     "text": [
      "Model: \"functional_1\"\n",
      "__________________________________________________________________________________________________\n",
      "Layer (type)                    Output Shape         Param #     Connected to                     \n",
      "==================================================================================================\n",
      "input_1 (InputLayer)            [(None, 19)]         0                                            \n",
      "__________________________________________________________________________________________________\n",
      "embedding (Embedding)           (None, 19, 500)      1395000     input_1[0][0]                    \n",
      "__________________________________________________________________________________________________\n",
      "lstm (LSTM)                     [(None, 19, 500), (N 2002000     embedding[0][0]                  \n",
      "__________________________________________________________________________________________________\n",
      "input_2 (InputLayer)            [(None, None)]       0                                            \n",
      "__________________________________________________________________________________________________\n",
      "lstm_1 (LSTM)                   [(None, 19, 500), (N 2002000     lstm[0][0]                       \n",
      "__________________________________________________________________________________________________\n",
      "embedding_1 (Embedding)         (None, None, 500)    1542500     input_2[0][0]                    \n",
      "__________________________________________________________________________________________________\n",
      "lstm_2 (LSTM)                   [(None, 19, 500), (N 2002000     lstm_1[0][0]                     \n",
      "__________________________________________________________________________________________________\n",
      "lstm_3 (LSTM)                   [(None, None, 500),  2002000     embedding_1[0][0]                \n",
      "                                                                 lstm_2[0][1]                     \n",
      "                                                                 lstm_2[0][2]                     \n",
      "__________________________________________________________________________________________________\n",
      "attention_layer (AttentionLayer ((None, None, 500),  500500      lstm_2[0][0]                     \n",
      "                                                                 lstm_3[0][0]                     \n",
      "__________________________________________________________________________________________________\n",
      "concat_layer (Concatenate)      (None, None, 1000)   0           lstm_3[0][0]                     \n",
      "                                                                 attention_layer[0][0]            \n",
      "__________________________________________________________________________________________________\n",
      "time_distributed (TimeDistribut (None, None, 3085)   3088085     concat_layer[0][0]               \n",
      "==================================================================================================\n",
      "Total params: 14,534,085\n",
      "Trainable params: 14,534,085\n",
      "Non-trainable params: 0\n",
      "__________________________________________________________________________________________________\n"
     ]
    }
   ],
   "source": [
    "from keras import backend as K \n",
    "K.clear_session() \n",
    "latent_dim = 500 \n",
    "\n",
    "# Encoder \n",
    "encoder_inputs = Input(shape=(max_length_source,)) \n",
    "enc_emb = Embedding(vocab_size_source, latent_dim,trainable=True)(encoder_inputs) \n",
    "\n",
    "#LSTM 1 \n",
    "encoder_lstm1 = LSTM(latent_dim,return_sequences=True,return_state=True) \n",
    "encoder_output1, state_h1, state_c1 = encoder_lstm1(enc_emb) \n",
    "\n",
    "#LSTM 2 \n",
    "encoder_lstm2 = LSTM(latent_dim,return_sequences=True,return_state=True) \n",
    "encoder_output2, state_h2, state_c2 = encoder_lstm2(encoder_output1) \n",
    "\n",
    "#LSTM 3 \n",
    "encoder_lstm3=LSTM(latent_dim, return_state=True, return_sequences=True) \n",
    "encoder_outputs, state_h, state_c= encoder_lstm3(encoder_output2) \n",
    "\n",
    "# Set up the decoder. \n",
    "decoder_inputs = Input(shape=(None,)) \n",
    "dec_emb_layer = Embedding(vocab_size_target, latent_dim,trainable=True) \n",
    "dec_emb = dec_emb_layer(decoder_inputs) \n",
    "\n",
    "#LSTM using encoder_states as initial state\n",
    "decoder_lstm = LSTM(latent_dim, return_sequences=True, return_state=True) \n",
    "decoder_outputs,decoder_fwd_state, decoder_back_state = decoder_lstm(dec_emb,initial_state=[state_h, state_c]) \n",
    "\n",
    "#Attention Layer\n",
    "attn_layer = AttentionLayer(name='attention_layer') \n",
    "attn_out, attn_states = attn_layer([encoder_outputs, decoder_outputs]) \n",
    "\n",
    "# Concat attention output and decoder LSTM output \n",
    "decoder_concat_input = Concatenate(axis=-1, name='concat_layer')([decoder_outputs, attn_out])\n",
    "\n",
    "#Dense layer\n",
    "decoder_dense = TimeDistributed(Dense(vocab_size_target, activation='softmax')) \n",
    "decoder_outputs = decoder_dense(decoder_concat_input) \n",
    "\n",
    "# Define the model\n",
    "model = Model([encoder_inputs, decoder_inputs], decoder_outputs) \n",
    "model.summary()"
   ]
  },
  {
   "cell_type": "code",
   "execution_count": null,
   "metadata": {
    "colab": {},
    "colab_type": "code",
    "id": "rgl9v4GlLHP2"
   },
   "outputs": [],
   "source": []
  },
  {
   "cell_type": "code",
   "execution_count": null,
   "metadata": {
    "colab": {},
    "colab_type": "code",
    "id": "BFANNvJuN2Dc"
   },
   "outputs": [],
   "source": [
    "model.compile(optimizer='rmsprop', loss='sparse_categorical_crossentropy', metrics=['accuracy'])\n"
   ]
  },
  {
   "cell_type": "code",
   "execution_count": null,
   "metadata": {
    "colab": {
     "base_uri": "https://localhost:8080/",
     "height": 538
    },
    "colab_type": "code",
    "id": "X_65vQcaNBCj",
    "outputId": "a459d093-3b3b-4d31-8534-7c3085d79321"
   },
   "outputs": [
    {
     "name": "stdout",
     "output_type": "stream",
     "text": [
      "Epoch 1/15\n",
      "9/9 [==============================] - 6s 620ms/step - loss: 4.3188 - accuracy: 0.4408 - val_loss: 2.0249 - val_accuracy: 0.6431\n",
      "Epoch 2/15\n",
      "9/9 [==============================] - 4s 413ms/step - loss: 2.5084 - accuracy: 0.5975 - val_loss: 1.9372 - val_accuracy: 0.6562\n",
      "Epoch 3/15\n",
      "9/9 [==============================] - 4s 412ms/step - loss: 2.3775 - accuracy: 0.6266 - val_loss: 1.8015 - val_accuracy: 0.7142\n",
      "Epoch 4/15\n",
      "9/9 [==============================] - 4s 416ms/step - loss: 2.2749 - accuracy: 0.6579 - val_loss: 1.7337 - val_accuracy: 0.7364\n",
      "Epoch 5/15\n",
      "9/9 [==============================] - 4s 413ms/step - loss: 2.1573 - accuracy: 0.6947 - val_loss: 1.6351 - val_accuracy: 0.7464\n",
      "Epoch 6/15\n",
      "9/9 [==============================] - 4s 419ms/step - loss: 2.0628 - accuracy: 0.6979 - val_loss: 1.6701 - val_accuracy: 0.7447\n",
      "Epoch 7/15\n",
      "9/9 [==============================] - 4s 421ms/step - loss: 1.9454 - accuracy: 0.7115 - val_loss: 1.4978 - val_accuracy: 0.7562\n",
      "Epoch 8/15\n",
      "9/9 [==============================] - 4s 415ms/step - loss: 1.8457 - accuracy: 0.7177 - val_loss: 1.5526 - val_accuracy: 0.7413\n",
      "Epoch 9/15\n",
      "9/9 [==============================] - 4s 413ms/step - loss: 1.7757 - accuracy: 0.7230 - val_loss: 1.5087 - val_accuracy: 0.7436\n",
      "Epoch 10/15\n",
      "9/9 [==============================] - 4s 413ms/step - loss: 1.7014 - accuracy: 0.7275 - val_loss: 1.4145 - val_accuracy: 0.7673\n",
      "Epoch 11/15\n",
      "9/9 [==============================] - 4s 413ms/step - loss: 1.6753 - accuracy: 0.7306 - val_loss: 1.3826 - val_accuracy: 0.7758\n",
      "Epoch 12/15\n",
      "9/9 [==============================] - 4s 419ms/step - loss: 1.5978 - accuracy: 0.7361 - val_loss: 1.3850 - val_accuracy: 0.7729\n",
      "Epoch 13/15\n",
      "9/9 [==============================] - 4s 415ms/step - loss: 1.5859 - accuracy: 0.7356 - val_loss: 1.3727 - val_accuracy: 0.7760\n",
      "Epoch 14/15\n",
      "9/9 [==============================] - 4s 418ms/step - loss: 1.5195 - accuracy: 0.7413 - val_loss: 1.3592 - val_accuracy: 0.7764\n",
      "Epoch 15/15\n",
      "9/9 [==============================] - 4s 418ms/step - loss: 1.4739 - accuracy: 0.7440 - val_loss: 1.3479 - val_accuracy: 0.7738\n"
     ]
    }
   ],
   "source": [
    "history = model.fit([X_train, y_train[:,:-1]], y_train.reshape(y_train.shape[0], y_train.shape[1],1)[:,1:], \n",
    "                    epochs=EPOCHS, \n",
    "                    batch_size=512,\n",
    "                    validation_data = ([X_test, y_test[:,:-1]], y_test.reshape(y_test.shape[0], y_test.shape[1], 1)[:,1:]))"
   ]
  },
  {
   "cell_type": "code",
   "execution_count": null,
   "metadata": {
    "colab": {
     "base_uri": "https://localhost:8080/",
     "height": 34
    },
    "colab_type": "code",
    "id": "RVIwf9GPOTia",
    "outputId": "7d341f54-568b-4e13-93e2-ace27b8297a9"
   },
   "outputs": [
    {
     "name": "stdout",
     "output_type": "stream",
     "text": [
      "Saved model to disk\n"
     ]
    }
   ],
   "source": [
    "model_json = model.to_json()\n",
    "with open(\"/content/drive/My Drive/Dataset/Machine Translation/Final Year/models/NMT_model.json\", \"w\") as json_file:\n",
    "    json_file.write(model_json)\n",
    "# serialize weights to HDF5\n",
    "model.save_weights(\"/content/drive/My Drive/Dataset/Machine Translation/Final Year/models/NMT_model_weight.h5\")\n",
    "print(\"Saved model to disk\")"
   ]
  },
  {
   "cell_type": "code",
   "execution_count": null,
   "metadata": {
    "colab": {},
    "colab_type": "code",
    "id": "ENT-k_uPRtxK"
   },
   "outputs": [],
   "source": [
    "# loading the model architecture and asigning the weights\n",
    "json_file = open('/content/drive/My Drive/Dataset/Machine Translation/Final Year/models/NMT_model.json', 'r')\n",
    "loaded_model_json = json_file.read()\n",
    "json_file.close()\n",
    "model_loaded = model_from_json(loaded_model_json, custom_objects={'AttentionLayer': AttentionLayer})\n",
    "# load weights into new model\n",
    "model_loaded.load_weights(\"/content/drive/My Drive/Dataset/Machine Translation/Final Year/models/NMT_model_weight.h5\")"
   ]
  },
  {
   "cell_type": "code",
   "execution_count": null,
   "metadata": {
    "colab": {
     "base_uri": "https://localhost:8080/",
     "height": 265
    },
    "colab_type": "code",
    "id": "ELszk8xxRziN",
    "outputId": "8868f754-d25b-4706-b528-1222654437e1"
   },
   "outputs": [
    {
     "data": {
      "image/png": "[encoded data removed]",
      "text/plain": [
       "<Figure size 432x288 with 1 Axes>"
      ]
     },
     "metadata": {
      "needs_background": "light",
      "tags": []
     },
     "output_type": "display_data"
    }
   ],
   "source": [
    "from matplotlib import pyplot \n",
    "pyplot.plot(history.history['loss'], label='train') \n",
    "pyplot.plot(history.history['val_loss'], label='test') \n",
    "pyplot.legend() \n",
    "pyplot.show()"
   ]
  },
  {
   "cell_type": "code",
   "execution_count": null,
   "metadata": {
    "colab": {},
    "colab_type": "code",
    "id": "5upjUHyaSEsU"
   },
   "outputs": [],
   "source": [
    "with open('/content/drive/My Drive/Dataset/Machine Translation/Final Year/processed_data/NMT_Stokenizer.pkl','rb') as f:\n",
    "  vocab_size_source, Sword2index, sourceTokenizer = pkl.load(f)\n",
    "\n",
    "with open('/content/drive/My Drive/Dataset/Machine Translation/Final Year/processed_data/NMT_Ttokenizer.pkl', 'rb') as f:\n",
    "  vocab_size_target, Tword2index, targetTokenizer = pkl.load(f)\n",
    "\n",
    "with open('/content/drive/My Drive/Dataset/Machine Translation/Final Year/processed_data/NMT_data.pkl','rb') as f:\n",
    "  X_train, y_train, X_test, y_test = pkl.load(f)"
   ]
  },
  {
   "cell_type": "code",
   "execution_count": null,
   "metadata": {
    "colab": {},
    "colab_type": "code",
    "id": "0VIhrLXeSWbV"
   },
   "outputs": [],
   "source": [
    "# Sword2index = sourceTokenizer.index_word\n",
    "# Tword2index = targetTokenizer.index_word"
   ]
  },
  {
   "cell_type": "code",
   "execution_count": null,
   "metadata": {
    "colab": {},
    "colab_type": "code",
    "id": "6wC7rjAf-2AO"
   },
   "outputs": [],
   "source": [
    "Sindex2word = sourceTokenizer.index_word\n",
    "Tindex2word = targetTokenizer.index_word"
   ]
  },
  {
   "cell_type": "markdown",
   "metadata": {
    "colab_type": "text",
    "id": "8Fv2yjiZ-1Ng"
   },
   "source": []
  },
  {
   "cell_type": "code",
   "execution_count": null,
   "metadata": {
    "colab": {
     "base_uri": "https://localhost:8080/",
     "height": 607
    },
    "colab_type": "code",
    "id": "LkquFI06gMQ0",
    "outputId": "190f0808-b73d-4fb9-fcb4-aadd29321308"
   },
   "outputs": [
    {
     "name": "stdout",
     "output_type": "stream",
     "text": [
      "Model: \"functional_1\"\n",
      "__________________________________________________________________________________________________\n",
      "Layer (type)                    Output Shape         Param #     Connected to                     \n",
      "==================================================================================================\n",
      "input_1 (InputLayer)            [(None, 19)]         0                                            \n",
      "__________________________________________________________________________________________________\n",
      "embedding (Embedding)           (None, 19, 500)      1395000     input_1[0][0]                    \n",
      "__________________________________________________________________________________________________\n",
      "lstm (LSTM)                     [(None, 19, 500), (N 2002000     embedding[0][0]                  \n",
      "__________________________________________________________________________________________________\n",
      "input_2 (InputLayer)            [(None, None)]       0                                            \n",
      "__________________________________________________________________________________________________\n",
      "lstm_1 (LSTM)                   [(None, 19, 500), (N 2002000     lstm[0][0]                       \n",
      "__________________________________________________________________________________________________\n",
      "embedding_1 (Embedding)         (None, None, 500)    1542500     input_2[0][0]                    \n",
      "__________________________________________________________________________________________________\n",
      "lstm_2 (LSTM)                   [(None, 19, 500), (N 2002000     lstm_1[0][0]                     \n",
      "__________________________________________________________________________________________________\n",
      "lstm_3 (LSTM)                   [(None, None, 500),  2002000     embedding_1[0][0]                \n",
      "                                                                 lstm_2[0][1]                     \n",
      "                                                                 lstm_2[0][2]                     \n",
      "__________________________________________________________________________________________________\n",
      "attention_layer (AttentionLayer ((None, None, 500),  500500      lstm_2[0][0]                     \n",
      "                                                                 lstm_3[0][0]                     \n",
      "__________________________________________________________________________________________________\n",
      "concat_layer (Concatenate)      (None, None, 1000)   0           lstm_3[0][0]                     \n",
      "                                                                 attention_layer[0][0]            \n",
      "__________________________________________________________________________________________________\n",
      "time_distributed (TimeDistribut (None, None, 3085)   3088085     concat_layer[0][0]               \n",
      "==================================================================================================\n",
      "Total params: 14,534,085\n",
      "Trainable params: 14,534,085\n",
      "Non-trainable params: 0\n",
      "__________________________________________________________________________________________________\n"
     ]
    }
   ],
   "source": [
    "model_loaded.summary()"
   ]
  },
  {
   "cell_type": "code",
   "execution_count": null,
   "metadata": {
    "colab": {
     "base_uri": "https://localhost:8080/",
     "height": 52
    },
    "colab_type": "code",
    "id": "93UwmPxwSg3s",
    "outputId": "a89fb41a-b3d1-446f-d4b2-9b199d38f527"
   },
   "outputs": [
    {
     "name": "stdout",
     "output_type": "stream",
     "text": [
      "(None, 19, 500)\n",
      "(None, None)\n"
     ]
    }
   ],
   "source": [
    "latent_dim=500\n",
    "# encoder inference\n",
    "encoder_inputs = model_loaded.input[0]  #loading encoder_inputs\n",
    "encoder_outputs, state_h, state_c = model_loaded.layers[6].output #loading encoder_outputs\n",
    "\n",
    "print(encoder_outputs.shape)\n",
    "\n",
    "encoder_model = Model(inputs=encoder_inputs,outputs=[encoder_outputs, state_h, state_c])\n",
    "\n",
    "# decoder inference\n",
    "# Below tensors will hold the states of the previous time step\n",
    "decoder_state_input_h = Input(shape=(latent_dim,))\n",
    "decoder_state_input_c = Input(shape=(latent_dim,))\n",
    "decoder_hidden_state_input = Input(shape=(32,latent_dim))\n",
    "\n",
    "# Get the embeddings of the decoder sequence\n",
    "decoder_inputs = model_loaded.layers[3].output\n",
    "\n",
    "print(decoder_inputs.shape)\n",
    "dec_emb_layer = model_loaded.layers[5]\n",
    "\n",
    "dec_emb2= dec_emb_layer(decoder_inputs)\n",
    "\n",
    "# To predict the next word in the sequence, set the initial states to the states from the previous time step\n",
    "decoder_lstm = model_loaded.layers[7]\n",
    "decoder_outputs2, state_h2, state_c2 = decoder_lstm(dec_emb2, initial_state=[decoder_state_input_h, decoder_state_input_c])\n",
    "\n",
    "#attention inference\n",
    "attn_layer = model_loaded.layers[8]\n",
    "attn_out_inf, attn_states_inf = attn_layer([decoder_hidden_state_input, decoder_outputs2])\n",
    "\n",
    "concate = model_loaded.layers[9]\n",
    "decoder_inf_concat = concate([decoder_outputs2, attn_out_inf])\n",
    "\n",
    "# A dense softmax layer to generate prob dist. over the target vocabulary\n",
    "decoder_dense = model_loaded.layers[10]\n",
    "decoder_outputs2 = decoder_dense(decoder_inf_concat)\n",
    "\n",
    "# Final decoder model\n",
    "decoder_model = Model(\n",
    "[decoder_inputs] + [decoder_hidden_state_input,decoder_state_input_h, decoder_state_input_c],\n",
    "[decoder_outputs2] + [state_h2, state_c2])"
   ]
  },
  {
   "cell_type": "code",
   "execution_count": null,
   "metadata": {
    "colab": {},
    "colab_type": "code",
    "id": "gjJnpHaLSraf"
   },
   "outputs": [],
   "source": [
    "def decode_sequence(input_seq):\n",
    "    # Encode the input as state vectors.\n",
    "    e_out, e_h, e_c = encoder_model.predict(input_seq)\n",
    "\n",
    "    # Generate empty target sequence of length 1.\n",
    "    target_seq = np.zeros((1,1))\n",
    "\n",
    "    # Chose the 'start' word as the first word of the target sequence\n",
    "    target_seq[0, 0] = Tword2index['start']\n",
    "\n",
    "    stop_condition = False\n",
    "    decoded_sentence = ''\n",
    "    while not stop_condition:\n",
    "        output_tokens, h, c = decoder_model.predict([target_seq] + [e_out, e_h, e_c])\n",
    "\n",
    "        # Sample a token\n",
    "        sampled_token_index = np.argmax(output_tokens[0, -1, :])\n",
    "        if sampled_token_index == 0:\n",
    "          break\n",
    "        else:\n",
    "          sampled_token = Tindex2word[sampled_token_index]\n",
    "\n",
    "          if(sampled_token!='end'):\n",
    "              decoded_sentence += ' '+sampled_token\n",
    "\n",
    "              # Exit condition: either hit max length or find stop word.\n",
    "              if (sampled_token == 'end' or len(decoded_sentence.split()) >= (26-1)):\n",
    "                  stop_condition = True\n",
    "\n",
    "          # Update the target sequence (of length 1).\n",
    "          target_seq = np.zeros((1,1))\n",
    "          target_seq[0, 0] = sampled_token_index\n",
    "\n",
    "          # Update internal states\n",
    "          e_h, e_c = h, c\n",
    "\n",
    "    return decoded_sentence"
   ]
  },
  {
   "cell_type": "code",
   "execution_count": null,
   "metadata": {
    "colab": {},
    "colab_type": "code",
    "id": "TOaWp74qTMl8"
   },
   "outputs": [],
   "source": [
    "def seq2summary(input_seq):\n",
    "    newString=''\n",
    "    for i in input_seq:\n",
    "      if((i!=0 and i!=Tword2index['start']) and i!=Tword2index['end']):\n",
    "        newString=newString+Tindex2word[i]+' '\n",
    "    return newString\n",
    "\n",
    "def seq2text(input_seq):\n",
    "    newString=''\n",
    "    for i in input_seq:\n",
    "      if(i!=0):\n",
    "        newString=newString+Sindex2word[i]+' '\n",
    "    return newString"
   ]
  },
  {
   "cell_type": "code",
   "execution_count": null,
   "metadata": {
    "colab": {
     "base_uri": "https://localhost:8080/",
     "height": 923
    },
    "colab_type": "code",
    "id": "IPE51LS4TB2D",
    "outputId": "9c700e9f-f69c-4b86-f314-cbc42e912eb2"
   },
   "outputs": [
    {
     "name": "stdout",
     "output_type": "stream",
     "text": [
      "Review: ano aduru ankasa \n",
      "Original summary: the solution at last \n",
      "WARNING:tensorflow:Model was constructed with shape (None, 32, 500) for input Tensor(\"input_5:0\", shape=(None, 32, 500), dtype=float32), but it was called on an input with incompatible shape (None, 19, 500).\n",
      "Predicted summary:  the about of a\n",
      "\n",
      "\n",
      "Review: efi nyan \n",
      "Original summary: by awake \n",
      "Predicted summary:  picture on page 5\n",
      "\n",
      "\n",
      "Review: anigyede a wɔhwehwɛ \n",
      "Original summary: in of \n",
      "Predicted summary:  a a a a a family\n",
      "\n",
      "\n",
      "Review: pɛ nea wode w’ani \n",
      "Original summary: take up a \n",
      "Predicted summary:  a a a a readers\n",
      "\n",
      "\n",
      "Review: efi nyan \n",
      "Original summary: by awake \n",
      "Predicted summary:  picture on page 5\n",
      "\n",
      "\n",
      "Review: ɔhaw no a wosiw ano \n",
      "Original summary: the cycle \n",
      "Predicted summary:  a about of readers\n",
      "\n",
      "\n",
      "Review: awofo a wonni \n",
      "Original summary: parents \n",
      "Predicted summary:  the was a a it\n",
      "\n",
      "\n",
      "Review: kratafa 7 mfonini ahorow \n",
      "Original summary: pictures on page 7 \n",
      "Predicted summary:  picture on page 5\n",
      "\n",
      "\n",
      "Review: mfiase pa \n",
      "Original summary: it began so well \n",
      "Predicted summary:  a a a a family\n",
      "\n",
      "\n",
      "Review: dɛn nti na ɛsɛ sɛ wɔkae \n",
      "Original summary: why remember \n",
      "Predicted summary:  the bible’s viewpoint\n",
      "\n",
      "\n"
     ]
    }
   ],
   "source": [
    "for i in range(10):\n",
    "  \n",
    "  print(\"Review:\",seq2text(X_test[i]))\n",
    "  print(\"Original summary:\",seq2summary(y_test[i]))\n",
    "  print(\"Predicted summary:\",decode_sequence(X_test[i].reshape(1,19)))\n",
    "  print(\"\\n\")"
   ]
  },
  {
   "cell_type": "code",
   "execution_count": null,
   "metadata": {
    "colab": {},
    "colab_type": "code",
    "id": "IzJkBArQTnZX"
   },
   "outputs": [],
   "source": []
  },
  {
   "cell_type": "code",
   "execution_count": null,
   "metadata": {
    "colab": {},
    "colab_type": "code",
    "id": "RmIAlyxST20o"
   },
   "outputs": [],
   "source": []
  }
 ],
 "metadata": {
  "accelerator": "GPU",
  "colab": {
   "collapsed_sections": [],
   "name": "nmt-atten-colab.ipynb",
   "provenance": []
  },
  "kernelspec": {
   "display_name": "Python 3",
   "language": "python",
   "name": "python3"
  },
  "language_info": {
   "codemirror_mode": {
    "name": "ipython",
    "version": 3
   },
   "file_extension": ".py",
   "mimetype": "text/x-python",
   "name": "python",
   "nbconvert_exporter": "python",
   "pygments_lexer": "ipython3",
   "version": "3.7.1"
  }
 },
 "nbformat": 4,
 "nbformat_minor": 1
}
